{
 "cells": [
  {
   "cell_type": "code",
   "execution_count": 1,
   "metadata": {},
   "outputs": [
    {
     "name": "stderr",
     "output_type": "stream",
     "text": [
      "Using TensorFlow backend.\n"
     ]
    }
   ],
   "source": [
    "import keras\n",
    "from keras.datasets import mnist\n",
    "from keras.models import Sequential\n",
    "from keras.layers import Dense, Dropout, Flatten, Conv2D, MaxPooling2D\n",
    "\n",
    "BATCH_SIZE = 128\n",
    "NUM_CLASSES = 10\n",
    "NUM_EPOCHS = 10"
   ]
  },
  {
   "cell_type": "code",
   "execution_count": 2,
   "metadata": {},
   "outputs": [],
   "source": [
    "# download and load the data (split them between train and test sets)\n",
    "(x_train, y_train), (x_test, y_test) = mnist.load_data()\n",
    "\n",
    "# expand the channel dimension\n",
    "# 将数据维度进行处理\n",
    "x_train = x_train.reshape(x_train.shape[0], 28, 28, 1)\n",
    "x_test = x_test.reshape(x_test.shape[0], 28, 28, 1)\n",
    "mnist_input_shape = (28, 28, 1)\n",
    "\n",
    "# make the value of pixels from [0, 255] to [0, 1] for further process\n",
    "# 进行归一化处理\n",
    "x_train = x_train.astype('float32') / 255.\n",
    "x_test = x_test.astype('float32') / 255.\n",
    "\n",
    "# convert class vectors to binary class matrics\n",
    "# 将类向量，转化为类矩阵\n",
    "# 从 5 转换为 0 0 0 0 1 0 0 0 0 0 矩阵\n",
    "y_train = keras.utils.to_categorical(y_train, NUM_CLASSES)\n",
    "y_test = keras.utils.to_categorical(y_test, NUM_CLASSES)"
   ]
  },
  {
   "cell_type": "code",
   "execution_count": 3,
   "metadata": {},
   "outputs": [
    {
     "name": "stdout",
     "output_type": "stream",
     "text": [
      "WARNING:tensorflow:From /home/shen-l/anaconda3/lib/python3.7/site-packages/keras/backend/tensorflow_backend.py:74: The name tf.get_default_graph is deprecated. Please use tf.compat.v1.get_default_graph instead.\n",
      "\n",
      "WARNING:tensorflow:From /home/shen-l/anaconda3/lib/python3.7/site-packages/keras/backend/tensorflow_backend.py:517: The name tf.placeholder is deprecated. Please use tf.compat.v1.placeholder instead.\n",
      "\n",
      "WARNING:tensorflow:From /home/shen-l/anaconda3/lib/python3.7/site-packages/keras/backend/tensorflow_backend.py:4138: The name tf.random_uniform is deprecated. Please use tf.random.uniform instead.\n",
      "\n",
      "WARNING:tensorflow:From /home/shen-l/anaconda3/lib/python3.7/site-packages/keras/backend/tensorflow_backend.py:3976: The name tf.nn.max_pool is deprecated. Please use tf.nn.max_pool2d instead.\n",
      "\n",
      "WARNING:tensorflow:From /home/shen-l/anaconda3/lib/python3.7/site-packages/keras/backend/tensorflow_backend.py:133: The name tf.placeholder_with_default is deprecated. Please use tf.compat.v1.placeholder_with_default instead.\n",
      "\n",
      "WARNING:tensorflow:From /home/shen-l/anaconda3/lib/python3.7/site-packages/keras/backend/tensorflow_backend.py:3445: calling dropout (from tensorflow.python.ops.nn_ops) with keep_prob is deprecated and will be removed in a future version.\n",
      "Instructions for updating:\n",
      "Please use `rate` instead of `keep_prob`. Rate should be set to `rate = 1 - keep_prob`.\n",
      "WARNING:tensorflow:From /home/shen-l/anaconda3/lib/python3.7/site-packages/keras/optimizers.py:790: The name tf.train.Optimizer is deprecated. Please use tf.compat.v1.train.Optimizer instead.\n",
      "\n",
      "WARNING:tensorflow:From /home/shen-l/anaconda3/lib/python3.7/site-packages/keras/backend/tensorflow_backend.py:3295: The name tf.log is deprecated. Please use tf.math.log instead.\n",
      "\n"
     ]
    }
   ],
   "source": [
    "# define the model\n",
    "\"\"\"\n",
    "构造网络结构\n",
    "\"\"\"\n",
    "model = Sequential()\n",
    "\n",
    "# kernalsize = 3*3 并没有改变数据维度\n",
    "model.add(Conv2D(32,kernel_size=(3,3),\n",
    "                 activation=\"relu\",\n",
    "                 input_shape=mnist_input_shape))\n",
    "\n",
    "model.add(Conv2D(16,kernel_size=(3,3),activation=\"relu\"))\n",
    "# 进行数据降维操作\n",
    "model.add(MaxPooling2D(pool_size=(2,2)))\n",
    "#Flatten层用来将输入“压平”，即把多维的输入一维化，常用在从卷积层到全连接层的过渡。Flatten不影响batch的大小。\n",
    "model.add(Flatten())\n",
    "\n",
    "model.add(Dropout(0.5))\n",
    "# 全连接层\n",
    "model.add(Dense(32,activation=\"relu\"))\n",
    "\n",
    "model.add(Dropout(0.5))            \n",
    "\n",
    "model.add(Dense(NUM_CLASSES,activation='softmax'))\n",
    "\n",
    "# define the object function, optimizer and metrics\n",
    "\"\"\"\n",
    "编译网络模型,添加一些超参数\n",
    "\"\"\"\n",
    "model.compile(loss=keras.losses.categorical_crossentropy,\n",
    "              optimizer=keras.optimizers.Adadelta(),\n",
    "              metrics=['accuracy'])"
   ]
  },
  {
   "cell_type": "code",
   "execution_count": 4,
   "metadata": {},
   "outputs": [
    {
     "name": "stdout",
     "output_type": "stream",
     "text": [
      "WARNING:tensorflow:From /home/shen-l/anaconda3/lib/python3.7/site-packages/tensorflow_core/python/ops/math_grad.py:1424: where (from tensorflow.python.ops.array_ops) is deprecated and will be removed in a future version.\n",
      "Instructions for updating:\n",
      "Use tf.where in 2.0, which has the same broadcast rule as np.where\n",
      "WARNING:tensorflow:From /home/shen-l/anaconda3/lib/python3.7/site-packages/keras/backend/tensorflow_backend.py:986: The name tf.assign_add is deprecated. Please use tf.compat.v1.assign_add instead.\n",
      "\n",
      "WARNING:tensorflow:From /home/shen-l/anaconda3/lib/python3.7/site-packages/keras/backend/tensorflow_backend.py:973: The name tf.assign is deprecated. Please use tf.compat.v1.assign instead.\n",
      "\n",
      "WARNING:tensorflow:From /home/shen-l/anaconda3/lib/python3.7/site-packages/keras/backend/tensorflow_backend.py:2741: The name tf.Session is deprecated. Please use tf.compat.v1.Session instead.\n",
      "\n",
      "Train on 60000 samples, validate on 10000 samples\n",
      "Epoch 1/10\n",
      "WARNING:tensorflow:From /home/shen-l/anaconda3/lib/python3.7/site-packages/keras/backend/tensorflow_backend.py:174: The name tf.get_default_session is deprecated. Please use tf.compat.v1.get_default_session instead.\n",
      "\n",
      "WARNING:tensorflow:From /home/shen-l/anaconda3/lib/python3.7/site-packages/keras/backend/tensorflow_backend.py:181: The name tf.ConfigProto is deprecated. Please use tf.compat.v1.ConfigProto instead.\n",
      "\n",
      "WARNING:tensorflow:From /home/shen-l/anaconda3/lib/python3.7/site-packages/keras/backend/tensorflow_backend.py:190: The name tf.global_variables is deprecated. Please use tf.compat.v1.global_variables instead.\n",
      "\n",
      "WARNING:tensorflow:From /home/shen-l/anaconda3/lib/python3.7/site-packages/keras/backend/tensorflow_backend.py:199: The name tf.is_variable_initialized is deprecated. Please use tf.compat.v1.is_variable_initialized instead.\n",
      "\n",
      "WARNING:tensorflow:From /home/shen-l/anaconda3/lib/python3.7/site-packages/keras/backend/tensorflow_backend.py:206: The name tf.variables_initializer is deprecated. Please use tf.compat.v1.variables_initializer instead.\n",
      "\n",
      "60000/60000 [==============================] - 17s 287us/step - loss: 0.6637 - acc: 0.7826 - val_loss: 0.1206 - val_acc: 0.9645\n",
      "Epoch 2/10\n",
      "60000/60000 [==============================] - 19s 317us/step - loss: 0.3362 - acc: 0.8956 - val_loss: 0.0853 - val_acc: 0.9733\n",
      "Epoch 3/10\n",
      "60000/60000 [==============================] - 22s 370us/step - loss: 0.2768 - acc: 0.9136 - val_loss: 0.0687 - val_acc: 0.9795\n",
      "Epoch 4/10\n",
      "60000/60000 [==============================] - 19s 313us/step - loss: 0.2479 - acc: 0.9239 - val_loss: 0.0626 - val_acc: 0.9818\n",
      "Epoch 5/10\n",
      "60000/60000 [==============================] - 18s 297us/step - loss: 0.2287 - acc: 0.9297 - val_loss: 0.0580 - val_acc: 0.9826\n",
      "Epoch 6/10\n",
      "60000/60000 [==============================] - 18s 297us/step - loss: 0.2162 - acc: 0.9328 - val_loss: 0.0538 - val_acc: 0.9828\n",
      "Epoch 7/10\n",
      "60000/60000 [==============================] - 19s 321us/step - loss: 0.2077 - acc: 0.9368 - val_loss: 0.0563 - val_acc: 0.9845\n",
      "Epoch 8/10\n",
      "60000/60000 [==============================] - 20s 336us/step - loss: 0.1994 - acc: 0.9390 - val_loss: 0.0515 - val_acc: 0.9847\n",
      "Epoch 9/10\n",
      "60000/60000 [==============================] - 19s 313us/step - loss: 0.1950 - acc: 0.9403 - val_loss: 0.0485 - val_acc: 0.9860\n",
      "Epoch 10/10\n",
      "60000/60000 [==============================] - 18s 304us/step - loss: 0.1879 - acc: 0.9428 - val_loss: 0.0453 - val_acc: 0.9864\n",
      "60000/60000 [==============================] - 8s 128us/step\n",
      "10000/10000 [==============================] - 1s 132us/step\n"
     ]
    }
   ],
   "source": [
    "# train\n",
    "model.fit(x_train,\n",
    "            y_train,\n",
    "            batch_size=BATCH_SIZE,\n",
    "            epochs=NUM_EPOCHS,\n",
    "            verbose=1,\n",
    "            validation_data=(x_test,y_test),\n",
    "            shuffle=True\n",
    "            )\n",
    "# evaluate\n",
    "score_train = model.evaluate(x_train,y_train,verbose=1)\n",
    "score_test = model.evaluate(x_test,y_test,verbose=1)"
   ]
  },
  {
   "cell_type": "code",
   "execution_count": 6,
   "metadata": {},
   "outputs": [
    {
     "name": "stdout",
     "output_type": "stream",
     "text": [
      "Training loss: 0.0465, Training accuracy: 98.67%\n",
      "Testing loss: 0.0453, Testing accuracy: 98.64%\n"
     ]
    }
   ],
   "source": [
    "#print\n",
    "print('Training loss: %.4f, Training accuracy: %.2f%%' % (score_train[0],100*score_train[1]))\n",
    "print('Testing loss: %.4f, Testing accuracy: %.2f%%' % (score_test[0],100*score_test[1]))"
   ]
  }
 ],
 "metadata": {
  "kernelspec": {
   "display_name": "Python 3",
   "language": "python",
   "name": "python3"
  },
  "language_info": {
   "codemirror_mode": {
    "name": "ipython",
    "version": 3
   },
   "file_extension": ".py",
   "mimetype": "text/x-python",
   "name": "python",
   "nbconvert_exporter": "python",
   "pygments_lexer": "ipython3",
   "version": "3.7.4"
  }
 },
 "nbformat": 4,
 "nbformat_minor": 2
}
