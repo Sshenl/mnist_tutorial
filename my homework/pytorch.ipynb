{
 "cells": [
  {
   "cell_type": "code",
   "execution_count": 1,
   "metadata": {},
   "outputs": [],
   "source": [
    "import torch\n",
    "import torch.nn as nn\n",
    "import torch.utils.data as data\n",
    "import torchvision\n",
    "import torchvision.transforms as transforms\n",
    "from tqdm import tqdm\n",
    "import time\n",
    "\n",
    "BATCH_SIZE = 128\n",
    "NUM_EPOCHS = 10"
   ]
  },
  {
   "cell_type": "code",
   "execution_count": 2,
   "metadata": {},
   "outputs": [],
   "source": [
    "# preprocessing\n",
    "normalize = transforms.Normalize(mean=[.5], std=[.5])\n",
    "transform = transforms.Compose([transforms.ToTensor(), normalize])\n",
    "\n",
    "# download and load the data\n",
    "train_dataset = torchvision.datasets.MNIST(root='./mnist/', train=True, transform=transform, download=True)\n",
    "test_dataset = torchvision.datasets.MNIST(root='./mnist/', train=False, transform=transform, download=False)\n",
    "\n",
    "# encapsulate them into dataloader form\n",
    "train_loader = data.DataLoader(train_dataset, batch_size=BATCH_SIZE, shuffle=True, drop_last=True)\n",
    "test_loader = data.DataLoader(test_dataset, batch_size=BATCH_SIZE, shuffle=False, drop_last=True)"
   ]
  },
  {
   "cell_type": "code",
   "execution_count": 3,
   "metadata": {},
   "outputs": [],
   "source": [
    "import torch.optim as optim\n",
    "DEVICE = torch.device(\"cuda\" if torch.cuda.is_available() else \"cpu\") # 让torch判断是否使用GPU，建议使用GPU环境，因为会快很多"
   ]
  },
  {
   "cell_type": "code",
   "execution_count": 4,
   "metadata": {},
   "outputs": [],
   "source": [
    "class ConvNet(nn.Module):\n",
    "    def __init__(self):\n",
    "        super(ConvNet,self).__init__()\n",
    "        # 1,28x28\n",
    "        self.conv1=nn.Conv2d(1,10,5) # 10, 24x24\n",
    "        self.conv2=nn.Conv2d(10,20,3) # 128, 10x10\n",
    "        self.fc1 = nn.Linear(20*10*10,500)\n",
    "        self.fc2 = nn.Linear(500,10)\n",
    "    def forward(self,x):\n",
    "        in_size = x.size(0)\n",
    "        out = self.conv1(x) #24\n",
    "        out = nn.functional.relu(out)\n",
    "        out = nn.functional.max_pool2d(out, 2, 2)  #12\n",
    "        out = self.conv2(out)#10\n",
    "        out = nn.functional.relu(out)\n",
    "        out = out.view(in_size,-1)\n",
    "        out = self.fc1(out)\n",
    "        out = nn.functional.relu(out)\n",
    "        out = self.fc2(out)\n",
    "        out = nn.functional.log_softmax(out,dim=1)\n",
    "        return out\n",
    "\n",
    "model = ConvNet().to(DEVICE)\n",
    "optimizer = optim.Adam(model.parameters())"
   ]
  },
  {
   "cell_type": "code",
   "execution_count": 5,
   "metadata": {},
   "outputs": [],
   "source": [
    "def train(model, device, train_loader, optimizer, epoch):\n",
    "    model.train()\n",
    "    for batch_idx, (data, target) in enumerate(train_loader):\n",
    "        data, target = data.to(device), target.to(device)\n",
    "        optimizer.zero_grad()\n",
    "        output = model(data)\n",
    "        loss = nn.functional.nll_loss(output, target)\n",
    "        loss.backward()\n",
    "        optimizer.step()\n",
    "    #if(batch_idx+1)%30 == 0: \n",
    "    print('Train Epoch: {} [{}/{} ({:.0f}%)]\\tLoss: {:.6f}'.format(\n",
    "        epoch, batch_idx * len(data), len(train_loader.dataset),\n",
    "        100. * batch_idx / len(train_loader), loss.item()))"
   ]
  },
  {
   "cell_type": "code",
   "execution_count": 6,
   "metadata": {},
   "outputs": [],
   "source": [
    "def test(model, device, test_loader):\n",
    "    model.eval()\n",
    "    test_loss = 0\n",
    "    correct = 0\n",
    "    with torch.no_grad():\n",
    "        for data, target in test_loader:\n",
    "            data, target = data.to(device), target.to(device)\n",
    "            output = model(data)\n",
    "            test_loss += nn.functional.nll_loss(output, target, reduction='sum').item() # 将一批的损失相加\n",
    "            pred = output.max(1, keepdim=True)[1] # 找到概率最大的下标\n",
    "            correct += pred.eq(target.view_as(pred)).sum().item()\n",
    "\n",
    "    test_loss /= len(test_loader.dataset)\n",
    "    print('\\nTest set: Average loss: {:.4f}, Accuracy: {}/{} ({:.0f}%)\\n'.format(\n",
    "        test_loss, correct, len(test_loader.dataset),\n",
    "        100. * correct / len(test_loader.dataset)))"
   ]
  },
  {
   "cell_type": "code",
   "execution_count": 7,
   "metadata": {},
   "outputs": [
    {
     "name": "stdout",
     "output_type": "stream",
     "text": [
      "Train Epoch: 1 [59776/60000 (100%)]\tLoss: 0.058847\n",
      "\n",
      "Test set: Average loss: 0.0624, Accuracy: 9770/10000 (98%)\n",
      "\n",
      "Train Epoch: 2 [59776/60000 (100%)]\tLoss: 0.057797\n",
      "\n",
      "Test set: Average loss: 0.0352, Accuracy: 9871/10000 (99%)\n",
      "\n",
      "Train Epoch: 3 [59776/60000 (100%)]\tLoss: 0.028039\n",
      "\n",
      "Test set: Average loss: 0.0350, Accuracy: 9877/10000 (99%)\n",
      "\n",
      "Train Epoch: 4 [59776/60000 (100%)]\tLoss: 0.014067\n",
      "\n",
      "Test set: Average loss: 0.0391, Accuracy: 9856/10000 (99%)\n",
      "\n",
      "Train Epoch: 5 [59776/60000 (100%)]\tLoss: 0.011943\n",
      "\n",
      "Test set: Average loss: 0.0337, Accuracy: 9876/10000 (99%)\n",
      "\n",
      "Train Epoch: 6 [59776/60000 (100%)]\tLoss: 0.003886\n",
      "\n",
      "Test set: Average loss: 0.0319, Accuracy: 9884/10000 (99%)\n",
      "\n",
      "Train Epoch: 7 [59776/60000 (100%)]\tLoss: 0.006936\n",
      "\n",
      "Test set: Average loss: 0.0324, Accuracy: 9888/10000 (99%)\n",
      "\n",
      "Train Epoch: 8 [59776/60000 (100%)]\tLoss: 0.001616\n",
      "\n",
      "Test set: Average loss: 0.0358, Accuracy: 9887/10000 (99%)\n",
      "\n",
      "Train Epoch: 9 [59776/60000 (100%)]\tLoss: 0.003711\n",
      "\n",
      "Test set: Average loss: 0.0340, Accuracy: 9887/10000 (99%)\n",
      "\n",
      "Train Epoch: 10 [59776/60000 (100%)]\tLoss: 0.029294\n",
      "\n",
      "Test set: Average loss: 0.0419, Accuracy: 9876/10000 (99%)\n",
      "\n"
     ]
    }
   ],
   "source": [
    "# test and train\n",
    "for epoch in range(1, NUM_EPOCHS + 1):\n",
    "    train(model, DEVICE, train_loader, optimizer, epoch)\n",
    "    test(model, DEVICE, test_loader)\n",
    "# evaluate\n",
    "# TODO:calculate the accuracy using traning and testing dataset"
   ]
  }
 ],
 "metadata": {
  "kernelspec": {
   "display_name": "Python 3",
   "language": "python",
   "name": "python3"
  },
  "language_info": {
   "codemirror_mode": {
    "name": "ipython",
    "version": 3
   },
   "file_extension": ".py",
   "mimetype": "text/x-python",
   "name": "python",
   "nbconvert_exporter": "python",
   "pygments_lexer": "ipython3",
   "version": "3.7.4"
  }
 },
 "nbformat": 4,
 "nbformat_minor": 2
}
